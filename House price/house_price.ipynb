{
 "cells": [
  {
   "cell_type": "code",
   "execution_count": 19,
   "id": "77ee84c5",
   "metadata": {},
   "outputs": [],
   "source": [
    "# importing the libraries\n",
    "import pandas as pd\n",
    "from sklearn.preprocessing import LabelEncoder\n",
    "from sklearn.model_selection import train_test_split\n",
    "from sklearn.linear_model import LinearRegression\n",
    "from sklearn.ensemble import RandomForestRegressor\n",
    "from sklearn.preprocessing import StandardScaler\n",
    "from sklearn.ensemble import GradientBoostingRegressor\n",
    "from sklearn.model_selection import GridSearchCV\n",
    "from sklearn.metrics import mean_absolute_error, mean_squared_error, r2_score"
   ]
  },
  {
   "cell_type": "code",
   "execution_count": 25,
   "id": "cf3fb39e",
   "metadata": {},
   "outputs": [],
   "source": [
    "# getting dataset\n",
    "data=pd.read_csv(r\"C:\\Users\\Lenovo\\Downloads\\archive (15)\\house_prices_dataset.csv\")"
   ]
  },
  {
   "cell_type": "code",
   "execution_count": 26,
   "id": "92def1c6",
   "metadata": {},
   "outputs": [
    {
     "data": {
      "text/html": [
       "<div>\n",
       "<style scoped>\n",
       "    .dataframe tbody tr th:only-of-type {\n",
       "        vertical-align: middle;\n",
       "    }\n",
       "\n",
       "    .dataframe tbody tr th {\n",
       "        vertical-align: top;\n",
       "    }\n",
       "\n",
       "    .dataframe thead th {\n",
       "        text-align: right;\n",
       "    }\n",
       "</style>\n",
       "<table border=\"1\" class=\"dataframe\">\n",
       "  <thead>\n",
       "    <tr style=\"text-align: right;\">\n",
       "      <th></th>\n",
       "      <th>square_feet</th>\n",
       "      <th>num_rooms</th>\n",
       "      <th>age</th>\n",
       "      <th>distance_to_city(km)</th>\n",
       "      <th>price</th>\n",
       "    </tr>\n",
       "  </thead>\n",
       "  <tbody>\n",
       "    <tr>\n",
       "      <th>0</th>\n",
       "      <td>2248.357077</td>\n",
       "      <td>3</td>\n",
       "      <td>92</td>\n",
       "      <td>22.997972</td>\n",
       "      <td>200374.090410</td>\n",
       "    </tr>\n",
       "    <tr>\n",
       "      <th>1</th>\n",
       "      <td>1930.867849</td>\n",
       "      <td>2</td>\n",
       "      <td>22</td>\n",
       "      <td>13.984254</td>\n",
       "      <td>268784.847337</td>\n",
       "    </tr>\n",
       "    <tr>\n",
       "      <th>2</th>\n",
       "      <td>2323.844269</td>\n",
       "      <td>6</td>\n",
       "      <td>33</td>\n",
       "      <td>21.500945</td>\n",
       "      <td>315020.857676</td>\n",
       "    </tr>\n",
       "    <tr>\n",
       "      <th>3</th>\n",
       "      <td>2761.514928</td>\n",
       "      <td>3</td>\n",
       "      <td>63</td>\n",
       "      <td>10.343638</td>\n",
       "      <td>355111.468459</td>\n",
       "    </tr>\n",
       "    <tr>\n",
       "      <th>4</th>\n",
       "      <td>1882.923313</td>\n",
       "      <td>7</td>\n",
       "      <td>54</td>\n",
       "      <td>25.485200</td>\n",
       "      <td>234197.123903</td>\n",
       "    </tr>\n",
       "    <tr>\n",
       "      <th>...</th>\n",
       "      <td>...</td>\n",
       "      <td>...</td>\n",
       "      <td>...</td>\n",
       "      <td>...</td>\n",
       "      <td>...</td>\n",
       "    </tr>\n",
       "    <tr>\n",
       "      <th>9995</th>\n",
       "      <td>2650.551032</td>\n",
       "      <td>7</td>\n",
       "      <td>9</td>\n",
       "      <td>18.126034</td>\n",
       "      <td>431344.267823</td>\n",
       "    </tr>\n",
       "    <tr>\n",
       "      <th>9996</th>\n",
       "      <td>1000.827516</td>\n",
       "      <td>2</td>\n",
       "      <td>53</td>\n",
       "      <td>24.479692</td>\n",
       "      <td>6650.271134</td>\n",
       "    </tr>\n",
       "    <tr>\n",
       "      <th>9997</th>\n",
       "      <td>1647.341638</td>\n",
       "      <td>5</td>\n",
       "      <td>80</td>\n",
       "      <td>2.189312</td>\n",
       "      <td>233698.384301</td>\n",
       "    </tr>\n",
       "    <tr>\n",
       "      <th>9998</th>\n",
       "      <td>2247.882787</td>\n",
       "      <td>6</td>\n",
       "      <td>73</td>\n",
       "      <td>27.931014</td>\n",
       "      <td>280766.827379</td>\n",
       "    </tr>\n",
       "    <tr>\n",
       "      <th>9999</th>\n",
       "      <td>2322.194227</td>\n",
       "      <td>7</td>\n",
       "      <td>73</td>\n",
       "      <td>10.595721</td>\n",
       "      <td>342895.309114</td>\n",
       "    </tr>\n",
       "  </tbody>\n",
       "</table>\n",
       "<p>10000 rows × 5 columns</p>\n",
       "</div>"
      ],
      "text/plain": [
       "      square_feet  num_rooms  age  distance_to_city(km)          price\n",
       "0     2248.357077          3   92             22.997972  200374.090410\n",
       "1     1930.867849          2   22             13.984254  268784.847337\n",
       "2     2323.844269          6   33             21.500945  315020.857676\n",
       "3     2761.514928          3   63             10.343638  355111.468459\n",
       "4     1882.923313          7   54             25.485200  234197.123903\n",
       "...           ...        ...  ...                   ...            ...\n",
       "9995  2650.551032          7    9             18.126034  431344.267823\n",
       "9996  1000.827516          2   53             24.479692    6650.271134\n",
       "9997  1647.341638          5   80              2.189312  233698.384301\n",
       "9998  2247.882787          6   73             27.931014  280766.827379\n",
       "9999  2322.194227          7   73             10.595721  342895.309114\n",
       "\n",
       "[10000 rows x 5 columns]"
      ]
     },
     "execution_count": 26,
     "metadata": {},
     "output_type": "execute_result"
    }
   ],
   "source": [
    "data"
   ]
  },
  {
   "cell_type": "code",
   "execution_count": 27,
   "id": "1d150794",
   "metadata": {},
   "outputs": [
    {
     "data": {
      "text/plain": [
       "square_feet             0\n",
       "num_rooms               0\n",
       "age                     0\n",
       "distance_to_city(km)    0\n",
       "price                   0\n",
       "dtype: int64"
      ]
     },
     "execution_count": 27,
     "metadata": {},
     "output_type": "execute_result"
    }
   ],
   "source": [
    "# checking for the missing values\n",
    "data.isnull().sum()"
   ]
  },
  {
   "cell_type": "code",
   "execution_count": 28,
   "id": "9ebc8a28",
   "metadata": {},
   "outputs": [
    {
     "data": {
      "text/plain": [
       "<bound method DataFrame.mean of       square_feet  num_rooms  age  distance_to_city(km)          price\n",
       "0     2248.357077          3   92             22.997972  200374.090410\n",
       "1     1930.867849          2   22             13.984254  268784.847337\n",
       "2     2323.844269          6   33             21.500945  315020.857676\n",
       "3     2761.514928          3   63             10.343638  355111.468459\n",
       "4     1882.923313          7   54             25.485200  234197.123903\n",
       "...           ...        ...  ...                   ...            ...\n",
       "9995  2650.551032          7    9             18.126034  431344.267823\n",
       "9996  1000.827516          2   53             24.479692    6650.271134\n",
       "9997  1647.341638          5   80              2.189312  233698.384301\n",
       "9998  2247.882787          6   73             27.931014  280766.827379\n",
       "9999  2322.194227          7   73             10.595721  342895.309114\n",
       "\n",
       "[10000 rows x 5 columns]>"
      ]
     },
     "execution_count": 28,
     "metadata": {},
     "output_type": "execute_result"
    }
   ],
   "source": [
    "# basic data analysis\n",
    "data.mean"
   ]
  },
  {
   "cell_type": "code",
   "execution_count": 29,
   "id": "ca8ed7ce",
   "metadata": {},
   "outputs": [
    {
     "name": "stdout",
     "output_type": "stream",
     "text": [
      "<class 'pandas.core.frame.DataFrame'>\n",
      "RangeIndex: 10000 entries, 0 to 9999\n",
      "Data columns (total 5 columns):\n",
      " #   Column                Non-Null Count  Dtype  \n",
      "---  ------                --------------  -----  \n",
      " 0   square_feet           10000 non-null  float64\n",
      " 1   num_rooms             10000 non-null  int64  \n",
      " 2   age                   10000 non-null  int64  \n",
      " 3   distance_to_city(km)  10000 non-null  float64\n",
      " 4   price                 10000 non-null  float64\n",
      "dtypes: float64(3), int64(2)\n",
      "memory usage: 390.8 KB\n"
     ]
    }
   ],
   "source": [
    "data.info()"
   ]
  },
  {
   "cell_type": "code",
   "execution_count": 31,
   "id": "d45dbaa8",
   "metadata": {},
   "outputs": [],
   "source": [
    "# getting data ready\n",
    "x=data.drop(columns=['price'])\n",
    "y=data['price']"
   ]
  },
  {
   "cell_type": "code",
   "execution_count": 32,
   "id": "6921889c",
   "metadata": {},
   "outputs": [],
   "source": [
    "# splitting the data into 80 20\n",
    "x_train,x_test,y_train,y_test=train_test_split(x,y,random_state=42,test_size=0.2)"
   ]
  },
  {
   "cell_type": "code",
   "execution_count": 33,
   "id": "b5ec8d52",
   "metadata": {},
   "outputs": [
    {
     "name": "stdout",
     "output_type": "stream",
     "text": [
      "MAE: 15596.120539083644\n",
      "MSE: 386443817.4602804\n",
      "R² Score: 0.960063695761787\n"
     ]
    }
   ],
   "source": [
    "# linear reggression \n",
    "lr=LinearRegression()\n",
    "lr.fit(x_train,y_train)\n",
    "y_pred=lr.predict(x_test)\n",
    "print(\"MAE:\", mean_absolute_error(y_test, y_pred))\n",
    "print(\"MSE:\", mean_squared_error(y_test, y_pred))\n",
    "print(\"R² Score:\", r2_score(y_test, y_pred))\n"
   ]
  },
  {
   "cell_type": "code",
   "execution_count": 34,
   "id": "9eb8d6f2",
   "metadata": {},
   "outputs": [
    {
     "name": "stdout",
     "output_type": "stream",
     "text": [
      "MAE: 15596.120539083644\n",
      "MSE: 386443817.4602804\n",
      "R² Score: 0.960063695761787\n"
     ]
    }
   ],
   "source": [
    "# Random Forest Reggression\n",
    "rf=RandomForestRegressor()\n",
    "rf.fit(x_train,y_train)\n",
    "y_pred=lr.predict(x_test)\n",
    "print(\"MAE:\", mean_absolute_error(y_test, y_pred))\n",
    "print(\"MSE:\", mean_squared_error(y_test, y_pred))\n",
    "print(\"R² Score:\", r2_score(y_test, y_pred))"
   ]
  },
  {
   "cell_type": "code",
   "execution_count": 35,
   "id": "ca04f6d4",
   "metadata": {},
   "outputs": [
    {
     "data": {
      "text/html": [
       "<div>\n",
       "<style scoped>\n",
       "    .dataframe tbody tr th:only-of-type {\n",
       "        vertical-align: middle;\n",
       "    }\n",
       "\n",
       "    .dataframe tbody tr th {\n",
       "        vertical-align: top;\n",
       "    }\n",
       "\n",
       "    .dataframe thead th {\n",
       "        text-align: right;\n",
       "    }\n",
       "</style>\n",
       "<table border=\"1\" class=\"dataframe\">\n",
       "  <thead>\n",
       "    <tr style=\"text-align: right;\">\n",
       "      <th></th>\n",
       "      <th>square_feet</th>\n",
       "      <th>num_rooms</th>\n",
       "      <th>age</th>\n",
       "      <th>distance_to_city(km)</th>\n",
       "      <th>price</th>\n",
       "    </tr>\n",
       "  </thead>\n",
       "  <tbody>\n",
       "    <tr>\n",
       "      <th>square_feet</th>\n",
       "      <td>1.000000</td>\n",
       "      <td>-0.006982</td>\n",
       "      <td>0.009760</td>\n",
       "      <td>0.004638</td>\n",
       "      <td>0.756545</td>\n",
       "    </tr>\n",
       "    <tr>\n",
       "      <th>num_rooms</th>\n",
       "      <td>-0.006982</td>\n",
       "      <td>1.000000</td>\n",
       "      <td>0.005636</td>\n",
       "      <td>0.016747</td>\n",
       "      <td>0.335230</td>\n",
       "    </tr>\n",
       "    <tr>\n",
       "      <th>age</th>\n",
       "      <td>0.009760</td>\n",
       "      <td>0.005636</td>\n",
       "      <td>1.000000</td>\n",
       "      <td>0.011175</td>\n",
       "      <td>-0.290799</td>\n",
       "    </tr>\n",
       "    <tr>\n",
       "      <th>distance_to_city(km)</th>\n",
       "      <td>0.004638</td>\n",
       "      <td>0.016747</td>\n",
       "      <td>0.011175</td>\n",
       "      <td>1.000000</td>\n",
       "      <td>-0.418217</td>\n",
       "    </tr>\n",
       "    <tr>\n",
       "      <th>price</th>\n",
       "      <td>0.756545</td>\n",
       "      <td>0.335230</td>\n",
       "      <td>-0.290799</td>\n",
       "      <td>-0.418217</td>\n",
       "      <td>1.000000</td>\n",
       "    </tr>\n",
       "  </tbody>\n",
       "</table>\n",
       "</div>"
      ],
      "text/plain": [
       "                      square_feet  num_rooms       age  distance_to_city(km)  \\\n",
       "square_feet              1.000000  -0.006982  0.009760              0.004638   \n",
       "num_rooms               -0.006982   1.000000  0.005636              0.016747   \n",
       "age                      0.009760   0.005636  1.000000              0.011175   \n",
       "distance_to_city(km)     0.004638   0.016747  0.011175              1.000000   \n",
       "price                    0.756545   0.335230 -0.290799             -0.418217   \n",
       "\n",
       "                         price  \n",
       "square_feet           0.756545  \n",
       "num_rooms             0.335230  \n",
       "age                  -0.290799  \n",
       "distance_to_city(km) -0.418217  \n",
       "price                 1.000000  "
      ]
     },
     "execution_count": 35,
     "metadata": {},
     "output_type": "execute_result"
    }
   ],
   "source": [
    "data.corr()"
   ]
  },
  {
   "cell_type": "code",
   "execution_count": 36,
   "id": "8fab9717",
   "metadata": {},
   "outputs": [],
   "source": [
    "# scaling the features\n",
    "x_train,x_test,y_train,y_test=train_test_split(x,y,random_state=42,test_size=0.2)\n",
    "scaler=StandardScaler()\n",
    "x_train=scaler.fit_transform(x_train)\n",
    "x_test=scaler.fit_transform(x_test)"
   ]
  },
  {
   "cell_type": "code",
   "execution_count": null,
   "id": "4337ef0e",
   "metadata": {},
   "outputs": [
    {
     "name": "stdout",
     "output_type": "stream",
     "text": [
      "MAE: 18088.896501281233\n",
      "MSE: 510223815.81621534\n",
      "R² Score: 0.9472718863198977\n"
     ]
    }
   ],
   "source": [
    "gr=RandomForestRegressor()\n",
    "gr.fit(x_train,y_train)\n",
    "y_pred=gr.predict(x_test)\n",
    "print(\"R² Score:\", r2_score(y_test, y_pred))"
   ]
  },
  {
   "cell_type": "code",
   "execution_count": 38,
   "id": "1cf4c21c",
   "metadata": {},
   "outputs": [
    {
     "name": "stdout",
     "output_type": "stream",
     "text": [
      "Best R2 score after tuning : 0.9448\n",
      "Best parameters : {'max_depth': 20, 'min_samples_split': 5, 'n_estimators': 200}\n"
     ]
    }
   ],
   "source": [
    "param_grid={\n",
    "    'n_estimators':[100,200],\n",
    "    'max_depth':[10,20,None],\n",
    "    'min_samples_split':[2,5]\n",
    "}\n",
    "grid_search=GridSearchCV(RandomForestRegressor(random_state=42),param_grid,cv=5,scoring='r2')\n",
    "grid_search.fit(x_train,y_train)\n",
    "\n",
    "print(f\"Best R2 score after tuning : {grid_search.best_score_:.4f}\")\n",
    "print(f\"Best parameters : {grid_search.best_params_}\")"
   ]
  },
  {
   "cell_type": "code",
   "execution_count": null,
   "id": "e7e03d8e",
   "metadata": {},
   "outputs": [],
   "source": []
  }
 ],
 "metadata": {
  "kernelspec": {
   "display_name": "base",
   "language": "python",
   "name": "python3"
  },
  "language_info": {
   "codemirror_mode": {
    "name": "ipython",
    "version": 3
   },
   "file_extension": ".py",
   "mimetype": "text/x-python",
   "name": "python",
   "nbconvert_exporter": "python",
   "pygments_lexer": "ipython3",
   "version": "3.11.5"
  }
 },
 "nbformat": 4,
 "nbformat_minor": 5
}
